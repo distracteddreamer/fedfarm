{
 "cells": [
  {
   "cell_type": "code",
   "execution_count": 1,
   "metadata": {},
   "outputs": [
    {
     "name": "stderr",
     "output_type": "stream",
     "text": [
      "Using TensorFlow backend.\n"
     ]
    }
   ],
   "source": [
    "from skimage.transform import resize\n",
    "from functools import partial\n",
    "import os\n",
    "import numpy as np\n",
    "import matplotlib.pyplot as plt\n",
    "import pandas as pd\n",
    "from keras.utils import Sequence\n",
    "from keras.utils.np_utils import to_categorical\n",
    "from keras.layers import Conv2D, MaxPooling2D, Dense, Input, Flatten\n",
    "from keras.models import Model\n",
    "from keras.optimizers import SGD\n",
    "from keras.losses import categorical_crossentropy\n",
    "\n",
    "import keras.backend as K\n",
    "\n",
    "import tensorflow as tf"
   ]
  },
  {
   "cell_type": "code",
   "execution_count": 4,
   "metadata": {},
   "outputs": [],
   "source": [
    "inp = Input((28, 28, 3))"
   ]
  },
  {
   "cell_type": "code",
   "execution_count": 5,
   "metadata": {},
   "outputs": [],
   "source": [
    "model = Model(inputs=inp, outputs=Conv2D(kernel_size=3, filters=1)(inp))"
   ]
  },
  {
   "cell_type": "code",
   "execution_count": 6,
   "metadata": {},
   "outputs": [],
   "source": [
    "gw = model.get_weights()"
   ]
  },
  {
   "cell_type": "code",
   "execution_count": 7,
   "metadata": {},
   "outputs": [
    {
     "data": {
      "text/plain": [
       "[array([[[[ 0.09209907],\n",
       "          [ 0.38825583],\n",
       "          [ 0.08590776]],\n",
       " \n",
       "         [[-0.04871097],\n",
       "          [ 0.12081599],\n",
       "          [-0.05592197]],\n",
       " \n",
       "         [[ 0.15108335],\n",
       "          [ 0.34117836],\n",
       "          [ 0.39134365]]],\n",
       " \n",
       " \n",
       "        [[[ 0.40673065],\n",
       "          [-0.38327602],\n",
       "          [ 0.35918957]],\n",
       " \n",
       "         [[ 0.17117292],\n",
       "          [-0.16997716],\n",
       "          [-0.00903338]],\n",
       " \n",
       "         [[ 0.15445143],\n",
       "          [ 0.01006725],\n",
       "          [-0.23327783]]],\n",
       " \n",
       " \n",
       "        [[[ 0.3821919 ],\n",
       "          [ 0.19170666],\n",
       "          [-0.24085848]],\n",
       " \n",
       "         [[-0.33629444],\n",
       "          [-0.15957205],\n",
       "          [ 0.0902943 ]],\n",
       " \n",
       "         [[ 0.07189274],\n",
       "          [ 0.26242077],\n",
       "          [ 0.27372682]]]], dtype=float32), array([0.], dtype=float32)]"
      ]
     },
     "execution_count": 7,
     "metadata": {},
     "output_type": "execute_result"
    }
   ],
   "source": [
    "gw"
   ]
  },
  {
   "cell_type": "code",
   "execution_count": 9,
   "metadata": {},
   "outputs": [],
   "source": [
    "model.compile(loss='mse', optimizer='Adam')\n"
   ]
  },
  {
   "cell_type": "code",
   "execution_count": 15,
   "metadata": {},
   "outputs": [
    {
     "data": {
      "text/plain": [
       "[array([[[[ 0.09209907],\n",
       "          [ 0.38825583],\n",
       "          [ 0.08590776]],\n",
       " \n",
       "         [[-0.04871097],\n",
       "          [ 0.12081599],\n",
       "          [-0.05592197]],\n",
       " \n",
       "         [[ 0.15108335],\n",
       "          [ 0.34117836],\n",
       "          [ 0.39134365]]],\n",
       " \n",
       " \n",
       "        [[[ 0.40673065],\n",
       "          [-0.38327602],\n",
       "          [ 0.35918957]],\n",
       " \n",
       "         [[ 0.17117292],\n",
       "          [-0.16997716],\n",
       "          [-0.00903338]],\n",
       " \n",
       "         [[ 0.15445143],\n",
       "          [ 0.01006725],\n",
       "          [-0.23327783]]],\n",
       " \n",
       " \n",
       "        [[[ 0.3821919 ],\n",
       "          [ 0.19170666],\n",
       "          [-0.24085848]],\n",
       " \n",
       "         [[-0.33629444],\n",
       "          [-0.15957205],\n",
       "          [ 0.0902943 ]],\n",
       " \n",
       "         [[ 0.07189274],\n",
       "          [ 0.26242077],\n",
       "          [ 0.27372682]]]], dtype=float32), array([0.], dtype=float32)]"
      ]
     },
     "execution_count": 15,
     "metadata": {},
     "output_type": "execute_result"
    }
   ],
   "source": [
    "gw"
   ]
  },
  {
   "cell_type": "code",
   "execution_count": 17,
   "metadata": {},
   "outputs": [
    {
     "data": {
      "text/plain": [
       "0.6339438"
      ]
     },
     "execution_count": 17,
     "metadata": {},
     "output_type": "execute_result"
    }
   ],
   "source": [
    "model.train_on_batch(x=np.random.uniform(size=(4, 28, 28, 3)), \n",
    "                     y=np.random.uniform(size=(4, 26, 26, 1)))"
   ]
  },
  {
   "cell_type": "code",
   "execution_count": 19,
   "metadata": {},
   "outputs": [
    {
     "data": {
      "text/plain": [
       "[array([[[[ 0.09209907],\n",
       "          [ 0.38825583],\n",
       "          [ 0.08590776]],\n",
       " \n",
       "         [[-0.04871097],\n",
       "          [ 0.12081599],\n",
       "          [-0.05592197]],\n",
       " \n",
       "         [[ 0.15108335],\n",
       "          [ 0.34117836],\n",
       "          [ 0.39134365]]],\n",
       " \n",
       " \n",
       "        [[[ 0.40673065],\n",
       "          [-0.38327602],\n",
       "          [ 0.35918957]],\n",
       " \n",
       "         [[ 0.17117292],\n",
       "          [-0.16997716],\n",
       "          [-0.00903338]],\n",
       " \n",
       "         [[ 0.15445143],\n",
       "          [ 0.01006725],\n",
       "          [-0.23327783]]],\n",
       " \n",
       " \n",
       "        [[[ 0.3821919 ],\n",
       "          [ 0.19170666],\n",
       "          [-0.24085848]],\n",
       " \n",
       "         [[-0.33629444],\n",
       "          [-0.15957205],\n",
       "          [ 0.0902943 ]],\n",
       " \n",
       "         [[ 0.07189274],\n",
       "          [ 0.26242077],\n",
       "          [ 0.27372682]]]], dtype=float32), array([0.], dtype=float32)]"
      ]
     },
     "execution_count": 19,
     "metadata": {},
     "output_type": "execute_result"
    }
   ],
   "source": [
    "gw"
   ]
  },
  {
   "cell_type": "code",
   "execution_count": null,
   "metadata": {},
   "outputs": [],
   "source": []
  }
 ],
 "metadata": {
  "kernelspec": {
   "display_name": "Python 3",
   "language": "python",
   "name": "python3"
  },
  "language_info": {
   "codemirror_mode": {
    "name": "ipython",
    "version": 3
   },
   "file_extension": ".py",
   "mimetype": "text/x-python",
   "name": "python",
   "nbconvert_exporter": "python",
   "pygments_lexer": "ipython3",
   "version": "3.5.2"
  }
 },
 "nbformat": 4,
 "nbformat_minor": 2
}
